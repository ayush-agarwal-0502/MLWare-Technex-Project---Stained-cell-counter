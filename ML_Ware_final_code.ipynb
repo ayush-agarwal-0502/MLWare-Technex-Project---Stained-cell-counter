{
  "nbformat": 4,
  "nbformat_minor": 0,
  "metadata": {
    "colab": {
      "name": "ML- Ware_final code.ipynb",
      "provenance": [],
      "collapsed_sections": []
    },
    "kernelspec": {
      "name": "python3",
      "display_name": "Python 3"
    },
    "language_info": {
      "name": "python"
    },
    "accelerator": "GPU"
  },
  "cells": [
    {
      "cell_type": "markdown",
      "source": [
        "Technex MLWare entry \n",
        "\n",
        "by Ayush Agarwal and Anshuman Asuliya \n",
        "\n",
        "team andrew ng sir team "
      ],
      "metadata": {
        "id": "mJGJqCeBS00P"
      }
    },
    {
      "cell_type": "code",
      "execution_count": null,
      "metadata": {
        "id": "vKYgFoVAZ28e"
      },
      "outputs": [],
      "source": [
        "# install kaggle\n",
        "!pip install -q kaggle"
      ]
    },
    {
      "cell_type": "code",
      "source": [
        "from google.colab import files\n",
        "files.upload()"
      ],
      "metadata": {
        "id": "9aCa20xUat6F",
        "colab": {
          "resources": {
            "http://localhost:8080/nbextensions/google.colab/files.js": {
              "data": "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",
              "ok": true,
              "headers": [
                [
                  "content-type",
                  "application/javascript"
                ]
              ],
              "status": 200,
              "status_text": ""
            }
          },
          "base_uri": "https://localhost:8080/",
          "height": 91
        },
        "outputId": "cff73d77-ed5d-40db-cee8-c83b6a397777"
      },
      "execution_count": null,
      "outputs": [
        {
          "output_type": "display_data",
          "data": {
            "text/html": [
              "\n",
              "     <input type=\"file\" id=\"files-b1047a6d-e3eb-4cce-9093-3f8da11fbd09\" name=\"files[]\" multiple disabled\n",
              "        style=\"border:none\" />\n",
              "     <output id=\"result-b1047a6d-e3eb-4cce-9093-3f8da11fbd09\">\n",
              "      Upload widget is only available when the cell has been executed in the\n",
              "      current browser session. Please rerun this cell to enable.\n",
              "      </output>\n",
              "      <script src=\"/nbextensions/google.colab/files.js\"></script> "
            ],
            "text/plain": [
              "<IPython.core.display.HTML object>"
            ]
          },
          "metadata": {}
        },
        {
          "output_type": "stream",
          "name": "stdout",
          "text": [
            "Saving kaggle.json to kaggle.json\n"
          ]
        },
        {
          "output_type": "execute_result",
          "data": {
            "text/plain": [
              "{'kaggle.json': b'{\"username\":\"anshumanasauliya\",\"key\":\"49364d517a0a12c374d75c7e1c6f9350\"}'}"
            ]
          },
          "metadata": {},
          "execution_count": 2
        }
      ]
    },
    {
      "cell_type": "code",
      "source": [
        "! mkdir ~/.kaggle\n",
        "! cp kaggle.json ~/.kaggle/\n",
        "! chmod 600 ~/.kaggle/kaggle.json"
      ],
      "metadata": {
        "id": "T8Yl-B7WbNeq"
      },
      "execution_count": null,
      "outputs": []
    },
    {
      "cell_type": "code",
      "source": [
        "import os\n",
        "os.environ['KAGGLE_CONFIG_DIR'] = '/content'\n",
        "!kaggle competitions download -c ml-ware22"
      ],
      "metadata": {
        "id": "s3VwdRZrdasu",
        "colab": {
          "base_uri": "https://localhost:8080/"
        },
        "outputId": "201789bf-6094-4673-840e-0e37c6fd90f9"
      },
      "execution_count": null,
      "outputs": [
        {
          "output_type": "stream",
          "name": "stdout",
          "text": [
            "Warning: Your Kaggle API key is readable by other users on this system! To fix this, you can run 'chmod 600 /content/kaggle.json'\n",
            "Warning: Looks like you're using an outdated API Version, please consider updating (server 1.5.12 / client 1.5.4)\n",
            "Downloading train.h5.zip to /content\n",
            "100% 2.48G/2.49G [00:24<00:00, 75.6MB/s]\n",
            "100% 2.49G/2.49G [00:25<00:00, 107MB/s] \n",
            "Downloading test.h5.zip to /content\n",
            "100% 1.22G/1.23G [00:11<00:00, 167MB/s]\n",
            "100% 1.23G/1.23G [00:11<00:00, 119MB/s]\n",
            "Downloading sample_submission.csv to /content\n",
            "  0% 0.00/44.0k [00:00<?, ?B/s]\n",
            "100% 44.0k/44.0k [00:00<00:00, 28.1MB/s]\n"
          ]
        }
      ]
    },
    {
      "cell_type": "code",
      "source": [
        "!unzip test.h5.zip\n",
        "!unzip train.h5.zip"
      ],
      "metadata": {
        "id": "jw0uGSr-d3Fv",
        "colab": {
          "base_uri": "https://localhost:8080/"
        },
        "outputId": "f6ec81d0-1bb6-4c7d-db89-dd7e585d2991"
      },
      "execution_count": null,
      "outputs": [
        {
          "output_type": "stream",
          "name": "stdout",
          "text": [
            "Archive:  test.h5.zip\n",
            "  inflating: test.h5                 \n",
            "Archive:  train.h5.zip\n",
            "  inflating: train.h5                \n"
          ]
        }
      ]
    },
    {
      "cell_type": "code",
      "source": [
        "import cv2\n",
        "from google.colab.patches import cv2_imshow\n",
        "import numpy as np \n",
        "import pandas as pd\n",
        "import h5py\n",
        "\n",
        "ds = h5py.File('train.h5' , 'r')\n",
        "x = (ds['x'])\n",
        "y = ds['y']\n",
        "\n",
        "# image after image processing\n",
        "X_train = []\n",
        "Y_train = []"
      ],
      "metadata": {
        "id": "2BehHypzGQOp"
      },
      "execution_count": null,
      "outputs": []
    },
    {
      "cell_type": "code",
      "source": [
        "# this was also one of our codes which we used before , this uses image processing concepts and then uses rmsprop blob detection\n",
        "# alogrithms , however we got a slightly higher accuracy with CNN so we used cnn in the end \n",
        "import random\n",
        "for j in range(0,3000):\n",
        "\n",
        "  # selecting random image\n",
        "  i=random.randrange(0,x.shape[0])\n",
        "\n",
        "  # taking the not of the image \n",
        "  img1 = cv2.bitwise_not(x[i,:,:,2])\n",
        "\n",
        "  # applying the required threshold\n",
        "  ret, thresh1 = cv2.threshold(img1, 140, 255, cv2.THRESH_TOZERO)\n",
        "\n",
        "  # blackening the borders \n",
        "  shapea = thresh1.shape\n",
        "  for a in range(0, shapea[0]):\n",
        "    for b in range(0, 15):\n",
        "            thresh1[a,b] = 0\n",
        "  for a in range(0, shapea[0]):\n",
        "    for b in range(shapea[1]-15,shapea[1]):\n",
        "            thresh1[a,b] = 0\n",
        "  for a in range(0, 15):\n",
        "    for b in range(0, shapea[1]):\n",
        "            thresh1[a,b] = 0\n",
        "  for a in range(shapea[0]-15, shapea[0]):\n",
        "    for b in range(0,shapea[1]):\n",
        "            thresh1[a,b] = 0 \n",
        "  # cv2_imshow(cv2.resize(thresh1,(0,0),fx=0.5,fy=0.5))\n",
        "\n",
        "  ret, thresh2 = cv2.threshold(thresh1, 110, 255, cv2.THRESH_BINARY)\n",
        "  # appending normalized image \n",
        "  X_train.append((thresh2/255).astype(np.float16))\n",
        "  Y_train.append(y[i])"
      ],
      "metadata": {
        "id": "y6xG6LWWJvyv"
      },
      "execution_count": null,
      "outputs": []
    },
    {
      "cell_type": "code",
      "source": [
        "# converting to numpy\n",
        "X_train = np.array(X_train)\n",
        "# reshaping test data\n",
        "print(X_train.shape)\n",
        "\n",
        "Y_train = np.array(Y_train)\n",
        "print(Y_train.shape)"
      ],
      "metadata": {
        "id": "vCS5T13wasiG",
        "colab": {
          "base_uri": "https://localhost:8080/"
        },
        "outputId": "382d363f-3c9b-4677-c814-b7741ba2101b"
      },
      "execution_count": null,
      "outputs": [
        {
          "output_type": "stream",
          "name": "stdout",
          "text": [
            "(3000, 299, 299)\n",
            "(3000,)\n"
          ]
        }
      ]
    },
    {
      "cell_type": "code",
      "source": [
        "import tensorflow as tf\n",
        "from tensorflow.keras import datasets, layers, models\n",
        "\n",
        "# dividing test data in batches\n",
        "train_ds = tf.data.Dataset.from_tensor_slices((X_train, Y_train)).shuffle(2000).batch(1000)"
      ],
      "metadata": {
        "id": "YaWpGE8n8Kii"
      },
      "execution_count": null,
      "outputs": []
    },
    {
      "cell_type": "code",
      "source": [
        "# The CNN model which was used for the final predictions \n",
        "# model\n",
        "cnn = models.Sequential([\n",
        "    layers.Conv2D(filters=32, kernel_size=(3, 3), activation='relu', input_shape=(299, 299, 1)),\n",
        "    layers.MaxPooling2D((2, 2)),\n",
        "    \n",
        "    layers.Conv2D(filters=64, kernel_size=(3, 3), activation='relu'),\n",
        "    layers.MaxPooling2D((2, 2)),\n",
        "    \n",
        "    layers.Flatten(),\n",
        "    layers.Dense(64, activation='relu'),\n",
        "    layers.Dense(1, activation='relu')\n",
        "])"
      ],
      "metadata": {
        "id": "SBrzqmRHjfzO"
      },
      "execution_count": null,
      "outputs": []
    },
    {
      "cell_type": "code",
      "source": [
        "# compiling model\n",
        "cnn.compile(optimizer='adam',loss='mean_squared_error',metrics=['accuracy'])"
      ],
      "metadata": {
        "id": "7_z8o0lIavFb"
      },
      "execution_count": null,
      "outputs": []
    },
    {
      "cell_type": "code",
      "source": [
        "# training model of all batched \n",
        "for images,label in train_ds:\n",
        "  cnn.fit(images , label , epochs=10)"
      ],
      "metadata": {
        "id": "-xQfCirfk5b9",
        "colab": {
          "base_uri": "https://localhost:8080/"
        },
        "outputId": "a65f9ba5-2eeb-41dd-8262-04af723e2fe6"
      },
      "execution_count": null,
      "outputs": [
        {
          "output_type": "stream",
          "name": "stdout",
          "text": [
            "Epoch 1/10\n",
            "32/32 [==============================] - 15s 156ms/step - loss: 30.1073 - accuracy: 0.2370\n",
            "Epoch 2/10\n",
            "32/32 [==============================] - 5s 145ms/step - loss: 30.5036 - accuracy: 0.2340\n",
            "Epoch 3/10\n",
            "32/32 [==============================] - 5s 148ms/step - loss: 30.4089 - accuracy: 0.2480\n",
            "Epoch 4/10\n",
            "32/32 [==============================] - 5s 146ms/step - loss: 17.6721 - accuracy: 0.2990\n",
            "Epoch 5/10\n",
            "32/32 [==============================] - 5s 144ms/step - loss: 8.8596 - accuracy: 0.2770\n",
            "Epoch 6/10\n",
            "32/32 [==============================] - 5s 145ms/step - loss: 2.9866 - accuracy: 0.3420\n",
            "Epoch 7/10\n",
            "32/32 [==============================] - 5s 145ms/step - loss: 2.0057 - accuracy: 0.3560\n",
            "Epoch 8/10\n",
            "32/32 [==============================] - 5s 145ms/step - loss: 0.9417 - accuracy: 0.3790\n",
            "Epoch 9/10\n",
            "32/32 [==============================] - 5s 145ms/step - loss: 0.6727 - accuracy: 0.4150\n",
            "Epoch 10/10\n",
            "32/32 [==============================] - 5s 145ms/step - loss: 0.5613 - accuracy: 0.4440\n",
            "Epoch 1/10\n",
            "32/32 [==============================] - 5s 147ms/step - loss: 13.5685 - accuracy: 0.3010\n",
            "Epoch 2/10\n",
            "32/32 [==============================] - 5s 145ms/step - loss: 3.8946 - accuracy: 0.3260\n",
            "Epoch 3/10\n",
            "32/32 [==============================] - 5s 145ms/step - loss: 1.0477 - accuracy: 0.3910\n",
            "Epoch 4/10\n",
            "32/32 [==============================] - 5s 145ms/step - loss: 0.5264 - accuracy: 0.4160\n",
            "Epoch 5/10\n",
            "32/32 [==============================] - 5s 145ms/step - loss: 0.3549 - accuracy: 0.4460\n",
            "Epoch 6/10\n",
            "32/32 [==============================] - 5s 145ms/step - loss: 0.3439 - accuracy: 0.4730\n",
            "Epoch 7/10\n",
            "32/32 [==============================] - 5s 145ms/step - loss: 0.1991 - accuracy: 0.4890\n",
            "Epoch 8/10\n",
            "32/32 [==============================] - 5s 146ms/step - loss: 0.1420 - accuracy: 0.4990\n",
            "Epoch 9/10\n",
            "32/32 [==============================] - 5s 145ms/step - loss: 0.1916 - accuracy: 0.5100\n",
            "Epoch 10/10\n",
            "32/32 [==============================] - 5s 149ms/step - loss: 0.4019 - accuracy: 0.4960\n",
            "Epoch 1/10\n",
            "32/32 [==============================] - 5s 145ms/step - loss: 13.5431 - accuracy: 0.3260\n",
            "Epoch 2/10\n",
            "32/32 [==============================] - 5s 145ms/step - loss: 4.3007 - accuracy: 0.3580\n",
            "Epoch 3/10\n",
            "32/32 [==============================] - 5s 145ms/step - loss: 1.8079 - accuracy: 0.3840\n",
            "Epoch 4/10\n",
            "32/32 [==============================] - 5s 145ms/step - loss: 0.8263 - accuracy: 0.4020\n",
            "Epoch 5/10\n",
            "32/32 [==============================] - 5s 145ms/step - loss: 0.7244 - accuracy: 0.4540\n",
            "Epoch 6/10\n",
            "32/32 [==============================] - 5s 145ms/step - loss: 0.5778 - accuracy: 0.4710\n",
            "Epoch 7/10\n",
            "32/32 [==============================] - 5s 145ms/step - loss: 0.1875 - accuracy: 0.5000\n",
            "Epoch 8/10\n",
            "32/32 [==============================] - 5s 145ms/step - loss: 0.0767 - accuracy: 0.5050\n",
            "Epoch 9/10\n",
            "32/32 [==============================] - 5s 145ms/step - loss: 0.0428 - accuracy: 0.5110\n",
            "Epoch 10/10\n",
            "32/32 [==============================] - 5s 144ms/step - loss: 0.0316 - accuracy: 0.5140\n"
          ]
        }
      ]
    },
    {
      "cell_type": "code",
      "source": [
        "# test data\n",
        "test = h5py.File('test.h5' , 'r')\n",
        "x_test = test['x']\n",
        "\n",
        "#test data after threshold\n",
        "X_test = []"
      ],
      "metadata": {
        "id": "9jUuKf-Wk4Zy"
      },
      "execution_count": null,
      "outputs": []
    },
    {
      "cell_type": "code",
      "source": [
        "for i in range(0,x_test.shape[0]):\n",
        "\n",
        "  # #taking the not of the image \n",
        "  img1 = cv2.bitwise_not(x_test[i,:,:,2])\n",
        "\n",
        "  # #applying the required threshold\n",
        "  ret, thresh1 = cv2.threshold(img1, 140, 255, cv2.THRESH_TOZERO)\n",
        "\n",
        "  # blackening the borders \n",
        "  shapea = thresh1.shape\n",
        "  for a in range(0, shapea[0]):\n",
        "    for b in range(0, 15):\n",
        "            thresh1[a,b] = 0\n",
        "  for a in range(0, shapea[0]):\n",
        "    for b in range(shapea[1]-15,shapea[1]):\n",
        "            thresh1[a,b] = 0\n",
        "  for a in range(0, 15):\n",
        "    for b in range(0, shapea[1]):\n",
        "            thresh1[a,b] = 0\n",
        "  for a in range(shapea[0]-15, shapea[0]):\n",
        "    for b in range(0,shapea[1]):\n",
        "            thresh1[a,b] = 0\n",
        "\n",
        "  ret, thresh2 = cv2.threshold(thresh1, 110, 255, cv2.THRESH_BINARY)\n",
        "  # appending normalized image in data list\n",
        "  X_test.append((thresh2/255).astype(np.float16))"
      ],
      "metadata": {
        "id": "LDvup1boAswu"
      },
      "execution_count": null,
      "outputs": []
    },
    {
      "cell_type": "code",
      "source": [
        "# convert ti numpy array\n",
        "X_test = np.array(X_test)\n",
        "# reshaping test data\n",
        "X_test = np.reshape(X_test , (X_test.shape[0] , 299,299,1))\n",
        "print(X_test.shape)\n"
      ],
      "metadata": {
        "colab": {
          "base_uri": "https://localhost:8080/"
        },
        "id": "YVyIeFNOBRI5",
        "outputId": "a9016925-2811-43e3-e7f3-09f1c4daeb3b"
      },
      "execution_count": null,
      "outputs": [
        {
          "output_type": "stream",
          "name": "stdout",
          "text": [
            "(6600, 299, 299, 1)\n"
          ]
        }
      ]
    },
    {
      "cell_type": "code",
      "source": [
        "# prediction\n",
        "y_pred = cnn.predict(X_test)"
      ],
      "metadata": {
        "id": "Br7MY5lrAekf"
      },
      "execution_count": null,
      "outputs": []
    },
    {
      "cell_type": "code",
      "source": [
        "# converting to numpy\n",
        "y_pred = np.array(y_pred)\n",
        "print(y_pred.shape)"
      ],
      "metadata": {
        "colab": {
          "base_uri": "https://localhost:8080/"
        },
        "id": "9hzrDdxvCg1W",
        "outputId": "9745c44e-6198-4b0e-c5bb-f043812d4c0b"
      },
      "execution_count": null,
      "outputs": [
        {
          "output_type": "stream",
          "name": "stdout",
          "text": [
            "(6600, 1)\n"
          ]
        }
      ]
    },
    {
      "cell_type": "code",
      "source": [
        "# round off predected values\n",
        "y_pred = np.round(y_pred)\n",
        "# reshaping predicted data\n",
        "y_pred = y_pred.flatten()\n",
        "print(y_pred)"
      ],
      "metadata": {
        "colab": {
          "base_uri": "https://localhost:8080/"
        },
        "id": "Hn0pv8xQH_sG",
        "outputId": "7584ebf6-18cf-4013-9ff4-00de6eac2d7c"
      },
      "execution_count": null,
      "outputs": [
        {
          "output_type": "stream",
          "name": "stdout",
          "text": [
            "[ 2.  2.  1. ...  1.  4. 10.]\n"
          ]
        }
      ]
    },
    {
      "cell_type": "code",
      "source": [
        "# id column\n",
        "id = list(range(0,x_test.shape[0]))"
      ],
      "metadata": {
        "id": "p3SGp6EQrZbi"
      },
      "execution_count": null,
      "outputs": []
    },
    {
      "cell_type": "code",
      "source": [
        "dict = {'id': id, 'label': y_pred}  \n",
        "       \n",
        "result = pd.DataFrame(dict) \n",
        "    \n",
        "# saving the dataframe \n",
        "result.to_csv('file.csv', index=False)"
      ],
      "metadata": {
        "id": "n81T6it3Wkc9"
      },
      "execution_count": null,
      "outputs": []
    },
    {
      "cell_type": "code",
      "source": [
        "from google.colab import files\n",
        "files.download(\"file.csv\")"
      ],
      "metadata": {
        "id": "jqTDi8wvXd7x",
        "colab": {
          "base_uri": "https://localhost:8080/",
          "height": 17
        },
        "outputId": "50876eee-971b-4d5e-ab7c-5592d4925dd4"
      },
      "execution_count": null,
      "outputs": [
        {
          "output_type": "display_data",
          "data": {
            "application/javascript": [
              "\n",
              "    async function download(id, filename, size) {\n",
              "      if (!google.colab.kernel.accessAllowed) {\n",
              "        return;\n",
              "      }\n",
              "      const div = document.createElement('div');\n",
              "      const label = document.createElement('label');\n",
              "      label.textContent = `Downloading \"${filename}\": `;\n",
              "      div.appendChild(label);\n",
              "      const progress = document.createElement('progress');\n",
              "      progress.max = size;\n",
              "      div.appendChild(progress);\n",
              "      document.body.appendChild(div);\n",
              "\n",
              "      const buffers = [];\n",
              "      let downloaded = 0;\n",
              "\n",
              "      const channel = await google.colab.kernel.comms.open(id);\n",
              "      // Send a message to notify the kernel that we're ready.\n",
              "      channel.send({})\n",
              "\n",
              "      for await (const message of channel.messages) {\n",
              "        // Send a message to notify the kernel that we're ready.\n",
              "        channel.send({})\n",
              "        if (message.buffers) {\n",
              "          for (const buffer of message.buffers) {\n",
              "            buffers.push(buffer);\n",
              "            downloaded += buffer.byteLength;\n",
              "            progress.value = downloaded;\n",
              "          }\n",
              "        }\n",
              "      }\n",
              "      const blob = new Blob(buffers, {type: 'application/binary'});\n",
              "      const a = document.createElement('a');\n",
              "      a.href = window.URL.createObjectURL(blob);\n",
              "      a.download = filename;\n",
              "      div.appendChild(a);\n",
              "      a.click();\n",
              "      div.remove();\n",
              "    }\n",
              "  "
            ],
            "text/plain": [
              "<IPython.core.display.Javascript object>"
            ]
          },
          "metadata": {}
        },
        {
          "output_type": "display_data",
          "data": {
            "application/javascript": [
              "download(\"download_3af629e5-d9be-4272-a0cd-a70e658fe0e3\", \"file.csv\", 58548)"
            ],
            "text/plain": [
              "<IPython.core.display.Javascript object>"
            ]
          },
          "metadata": {}
        }
      ]
    },
    {
      "cell_type": "code",
      "source": [
        ""
      ],
      "metadata": {
        "id": "pUdexj7yIrYn"
      },
      "execution_count": null,
      "outputs": []
    }
  ]
}